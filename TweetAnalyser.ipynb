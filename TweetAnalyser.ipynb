{
 "cells": [
  {
   "cell_type": "code",
   "execution_count": 84,
   "id": "f4998c1a",
   "metadata": {},
   "outputs": [],
   "source": [
    "import cohere\n",
    "import pandas as pd\n",
    "from langdetect import detect\n",
    "from textblob import TextBlob\n",
    "from collections import Counter\n",
    "from cohere.classify import Example"
   ]
  },
  {
   "cell_type": "code",
   "execution_count": 3,
   "id": "067dc2c3",
   "metadata": {},
   "outputs": [],
   "source": [
    "# Co:here API\n",
    "apiKey = 'Ww6g03cPQnCTOkzBT77cis2GPQXtEZXhu9Hruole'\n",
    "co = cohere.Client(f'{apiKey}', '2021-11-08')"
   ]
  },
  {
   "cell_type": "markdown",
   "id": "2242033c",
   "metadata": {},
   "source": [
    "# Data starts here"
   ]
  },
  {
   "cell_type": "markdown",
   "id": "1b794c1a",
   "metadata": {},
   "source": [
    "* Check if it's in English.\n",
    "* Change the encoding.\n",
    "* Get sentiment analysis score.\n",
    "* Get the words."
   ]
  },
  {
   "cell_type": "code",
   "execution_count": 6,
   "id": "9e7d3334",
   "metadata": {},
   "outputs": [],
   "source": [
    "def clean_data(filename):\n",
    "    \"\"\"\n",
    "    Get and cleans data from one database\n",
    "    \"\"\"\n",
    "    data = pd.read_excel(filename, index_col=0)  \n",
    "    return data[data['text'].notnull()]"
   ]
  },
  {
   "cell_type": "code",
   "execution_count": 7,
   "id": "2f008b35",
   "metadata": {},
   "outputs": [],
   "source": [
    "def encodeUTF8(badtext):\n",
    "    \"\"\"\n",
    "    Decode a current string from cp1252 to utf-8. \n",
    "    \"\"\"\n",
    "    return badtext.encode('cp1252').decode('utf-8') "
   ]
  },
  {
   "cell_type": "code",
   "execution_count": 8,
   "id": "365052b1",
   "metadata": {},
   "outputs": [],
   "source": [
    "def get_sentiment_scores(co, text):\n",
    "    \"\"\"\n",
    "    Co:here sentiment analysis score.\n",
    "    Returns \n",
    "    \"\"\"\n",
    "    # TO DO"
   ]
  },
  {
   "cell_type": "code",
   "execution_count": 9,
   "id": "a01a5841",
   "metadata": {},
   "outputs": [],
   "source": [
    "def get_common_words(texts):\n",
    "    \"Return the most common texts\"\n",
    "    # TO DO"
   ]
  },
  {
   "cell_type": "code",
   "execution_count": 20,
   "id": "5da21028",
   "metadata": {},
   "outputs": [],
   "source": [
    "def clean_text(txt):\n",
    "    \"\"\"\n",
    "    The function will clean the code through multiple regex commands.\n",
    "    It returns the clean string.\n",
    "    \"\"\"\n",
    "    return re.sub(r'[^ ]*(#|http|.com)[^ ]*', r' ', \n",
    "                  re.sub(r'[^ ]*(|•|®|ã|©|¥|@|å)[^ ]*', r' ', \n",
    "                         re.sub(r'â€|_x000D_', r' ',txt)))\n",
    "   "
   ]
  },
  {
   "cell_type": "code",
   "execution_count": 10,
   "id": "c257d810",
   "metadata": {},
   "outputs": [
    {
     "name": "stdout",
     "output_type": "stream",
     "text": [
      "[('geeks', 5), ('to', 4), ('and', 4), ('for', 3)]\n"
     ]
    }
   ],
   "source": [
    "from collections import Counter\n",
    "  \n",
    "data_set = \"Welcome to the world of Geeks \" \\\n",
    "\"This portal has been created to provide well written well\" \\\n",
    "\"thought and well explained solutions for selected questions \" \\\n",
    "\"If you like Geeks for Geeks and would like to contribute \" \\\n",
    "\"here is your chance You can write article and mail your article \" \\\n",
    "\" to contribute at geeksforgeeks org See your article appearing on \" \\\n",
    "\"the Geeks for Geeks main page and help thousands of other Geeks. \" \\\n",
    "  \n",
    "# split() returns list of all the words in the string\n",
    "split_it = data_set.lower().split()\n",
    "  \n",
    "# Pass the split_it list to instance of Counter class.\n",
    "Counter = Counter(split_it)\n",
    "  \n",
    "# most_common() produces k frequently encountered\n",
    "# input values and their respective counts.\n",
    "most_occur = Counter.most_common(4)\n",
    "  \n",
    "print(most_occur)"
   ]
  },
  {
   "cell_type": "markdown",
   "id": "15e9c58d",
   "metadata": {},
   "source": [
    "# Sentiment analysis Co:here model"
   ]
  },
  {
   "cell_type": "code",
   "execution_count": 82,
   "id": "09c79d5f",
   "metadata": {},
   "outputs": [],
   "source": [
    "def get_examples():\n",
    "    \"\"\"\n",
    "    Return the examples that will be used for co:here's \n",
    "    sentiment analysis model.\n",
    "    \"\"\"\n",
    "    tweets = pd.read_csv(\"data/training.1600000.processed.noemoticon.csv\",encoding='ISO-8859-1').set_axis(['score', 'id', 'date', 'query', 'user', 'text'], axis=1)\n",
    "    examples = []\n",
    "    for i in range(100):\n",
    "        examples.append(Example(clean_text(neg_tweet.iloc[i]['text']).lower(), \"negative review\"))\n",
    "        examples.append(Example(clean_text(pos_tweet.iloc[i]['text']).lower(), \"positive review\"))\n",
    "    \n",
    "    return examples"
   ]
  },
  {
   "cell_type": "code",
   "execution_count": 128,
   "id": "60629437",
   "metadata": {},
   "outputs": [],
   "source": [
    "def get_sentiment(inputs, examples):\n",
    "    return co.classify(inputs=inputs, examples=examples, model=\"large\")"
   ]
  },
  {
   "cell_type": "code",
   "execution_count": 102,
   "id": "46ab3951",
   "metadata": {},
   "outputs": [],
   "source": []
  },
  {
   "cell_type": "code",
   "execution_count": 161,
   "id": "a92bfe45",
   "metadata": {},
   "outputs": [],
   "source": [
    "def get_texts(df):  \n",
    "    \"\"\"\n",
    "    Separate all the valid texts and encode them properly\n",
    "    \"\"\"\n",
    "    text = []\n",
    "\n",
    "    for i in df.iterrows():\n",
    "        if detect(i[1]['text']) == \"en\":\n",
    "            try:\n",
    "                tt = clean_text(i[1]['text']) \n",
    "                text.append(encodeUTF8(tt).lower())\n",
    "\n",
    "\n",
    "            except:\n",
    "                print(i[1]['text'])\n",
    "                print()\n",
    "\n",
    "    return text"
   ]
  },
  {
   "cell_type": "code",
   "execution_count": null,
   "id": "4cfe101f",
   "metadata": {},
   "outputs": [],
   "source": [
    "def get_neg_pos_score(clss):\n",
    "    neg_val = 0\n",
    "    pos_val = 0\n",
    "    for i in clss.classifications:\n",
    "        neg_val = neg_val + i.confidence[0].confidence\n",
    "        pos_val = pos_val + i.confidence[1].confidence\n",
    "    \n",
    "    return neg_val, pos_val"
   ]
  },
  {
   "cell_type": "code",
   "execution_count": 172,
   "id": "f17a3028",
   "metadata": {},
   "outputs": [],
   "source": [
    "def get_final_scores(text):\n",
    "    len_ex = len(text)\n",
    "    temp = []\n",
    "    score_neg = 0\n",
    "    score_pos = 0\n",
    "    for i in range(1, len_ex + 1):\n",
    "        temp.append(text[i-1])\n",
    "        if i % 32 == 0 or i == len_ex:\n",
    "            print(\"Get  data\", i, len_ex)\n",
    "            temp_neg, temp_pos = get_neg_pos_score(get_sentiment(temp, examples)) \n",
    "            score_neg = score_neg + temp_neg\n",
    "            score_pos = score_pos + temp_pos\n",
    "\n",
    "\n",
    "            temp = []\n",
    "    return score_neg / len_ex, score_pos / len_ex\n"
   ]
  },
  {
   "cell_type": "markdown",
   "id": "1658bb4f",
   "metadata": {},
   "source": [
    "# Sentiment Results"
   ]
  },
  {
   "cell_type": "code",
   "execution_count": 173,
   "id": "85a4c7a5",
   "metadata": {},
   "outputs": [],
   "source": [
    "# Collect data\n",
    "# Trudeau's data has been been changed so we \n",
    "#  remove the tweets in French\n",
    "boris   = clean_data('data/p_boris.xlsx')\n",
    "lee     = clean_data('data/p_lee.xlsx')\n",
    "modi    = clean_data('data/p_modi.xlsx')\n",
    "trudeau = clean_data('data/p_trudeau.xlsx')\n",
    "trump   = clean_data('data/p_trump.xlsx')\n",
    "\n",
    "# obtenir les examples\n",
    "examples = get_examples()"
   ]
  },
  {
   "cell_type": "code",
   "execution_count": 176,
   "id": "81cc9d9b",
   "metadata": {},
   "outputs": [
    {
     "name": "stdout",
     "output_type": "stream",
     "text": [
      "Get  data 32 533\n",
      "Get  data 64 533\n",
      "Get  data 96 533\n",
      "Get  data 128 533\n",
      "Get  data 160 533\n",
      "Get  data 192 533\n",
      "Get  data 224 533\n",
      "Get  data 256 533\n",
      "Get  data 288 533\n",
      "Get  data 320 533\n",
      "Get  data 352 533\n",
      "Get  data 384 533\n",
      "Get  data 416 533\n",
      "Get  data 448 533\n",
      "Get  data 480 533\n",
      "Get  data 512 533\n",
      "Get  data 533 533\n"
     ]
    }
   ],
   "source": [
    "sc_boris = get_final_scores(get_texts(boris))"
   ]
  },
  {
   "cell_type": "code",
   "execution_count": 177,
   "id": "65cf5929",
   "metadata": {},
   "outputs": [
    {
     "name": "stdout",
     "output_type": "stream",
     "text": [
      "Get  data 32 748\n",
      "Get  data 64 748\n",
      "Get  data 96 748\n",
      "Get  data 128 748\n",
      "Get  data 160 748\n",
      "Get  data 192 748\n",
      "Get  data 224 748\n",
      "Get  data 256 748\n",
      "Get  data 288 748\n",
      "Get  data 320 748\n",
      "Get  data 352 748\n",
      "Get  data 384 748\n",
      "Get  data 416 748\n",
      "Get  data 448 748\n",
      "Get  data 480 748\n",
      "Get  data 512 748\n",
      "Get  data 544 748\n",
      "Get  data 576 748\n",
      "Get  data 608 748\n",
      "Get  data 640 748\n",
      "Get  data 672 748\n",
      "Get  data 704 748\n",
      "Get  data 736 748\n",
      "Get  data 748 748\n"
     ]
    }
   ],
   "source": [
    "sc_lee = get_final_scores(get_texts(lee))"
   ]
  },
  {
   "cell_type": "code",
   "execution_count": 178,
   "id": "a25baed2",
   "metadata": {},
   "outputs": [
    {
     "name": "stdout",
     "output_type": "stream",
     "text": [
      "Get  data 32 526\n",
      "Get  data 64 526\n",
      "Get  data 96 526\n",
      "Get  data 128 526\n",
      "Get  data 160 526\n",
      "Get  data 192 526\n",
      "Get  data 224 526\n",
      "Get  data 256 526\n",
      "Get  data 288 526\n",
      "Get  data 320 526\n",
      "Get  data 352 526\n",
      "Get  data 384 526\n",
      "Get  data 416 526\n",
      "Get  data 448 526\n",
      "Get  data 480 526\n",
      "Get  data 512 526\n",
      "Get  data 526 526\n"
     ]
    }
   ],
   "source": [
    "sc_modi = get_final_scores(get_texts(modi))"
   ]
  },
  {
   "cell_type": "code",
   "execution_count": 179,
   "id": "8e9ce1ce",
   "metadata": {},
   "outputs": [
    {
     "name": "stdout",
     "output_type": "stream",
     "text": [
      "Get  data 32 293\n",
      "Get  data 64 293\n",
      "Get  data 96 293\n",
      "Get  data 128 293\n",
      "Get  data 160 293\n",
      "Get  data 192 293\n",
      "Get  data 224 293\n",
      "Get  data 256 293\n",
      "Get  data 288 293\n",
      "Get  data 293 293\n"
     ]
    }
   ],
   "source": [
    "sc_trudeau = get_final_scores(get_texts(trudeau))"
   ]
  },
  {
   "cell_type": "code",
   "execution_count": 180,
   "id": "865e9daa",
   "metadata": {},
   "outputs": [
    {
     "name": "stdout",
     "output_type": "stream",
     "text": [
      "Get  data 32 579\n",
      "Get  data 64 579\n",
      "Get  data 96 579\n",
      "Get  data 128 579\n",
      "Get  data 160 579\n",
      "Get  data 192 579\n",
      "Get  data 224 579\n",
      "Get  data 256 579\n",
      "Get  data 288 579\n",
      "Get  data 320 579\n",
      "Get  data 352 579\n",
      "Get  data 384 579\n",
      "Get  data 416 579\n",
      "Get  data 448 579\n",
      "Get  data 480 579\n",
      "Get  data 512 579\n",
      "Get  data 544 579\n",
      "Get  data 576 579\n",
      "Get  data 579 579\n"
     ]
    }
   ],
   "source": [
    "sc_trump = get_final_scores(get_texts(trump))"
   ]
  },
  {
   "cell_type": "code",
   "execution_count": 181,
   "id": "a8deb52e",
   "metadata": {},
   "outputs": [
    {
     "data": {
      "text/plain": [
       "(0.23589349680975957, 0.7641065037145224)"
      ]
     },
     "execution_count": 181,
     "metadata": {},
     "output_type": "execute_result"
    }
   ],
   "source": [
    "sc_boris"
   ]
  },
  {
   "cell_type": "code",
   "execution_count": 182,
   "id": "b1e7d0f9",
   "metadata": {},
   "outputs": [
    {
     "data": {
      "text/plain": [
       "(0.10802306021591031, 0.8919769400476872)"
      ]
     },
     "execution_count": 182,
     "metadata": {},
     "output_type": "execute_result"
    }
   ],
   "source": [
    "sc_lee"
   ]
  },
  {
   "cell_type": "code",
   "execution_count": 183,
   "id": "fad0536f",
   "metadata": {},
   "outputs": [
    {
     "data": {
      "text/plain": [
       "(0.16750298506419567, 0.8324970152266863)"
      ]
     },
     "execution_count": 183,
     "metadata": {},
     "output_type": "execute_result"
    }
   ],
   "source": [
    "sc_modi"
   ]
  },
  {
   "cell_type": "code",
   "execution_count": 184,
   "id": "5f3bf207",
   "metadata": {},
   "outputs": [
    {
     "data": {
      "text/plain": [
       "(0.32097660659603056, 0.6790233949248847)"
      ]
     },
     "execution_count": 184,
     "metadata": {},
     "output_type": "execute_result"
    }
   ],
   "source": [
    "sc_trudeau"
   ]
  },
  {
   "cell_type": "code",
   "execution_count": 185,
   "id": "a3a8bd62",
   "metadata": {},
   "outputs": [
    {
     "data": {
      "text/plain": [
       "(0.3852353060404367, 0.6147646949748412)"
      ]
     },
     "execution_count": 185,
     "metadata": {},
     "output_type": "execute_result"
    }
   ],
   "source": [
    "sc_trump"
   ]
  },
  {
   "cell_type": "markdown",
   "id": "e7fefc9a",
   "metadata": {},
   "source": [
    "# Common words"
   ]
  },
  {
   "cell_type": "code",
   "execution_count": 203,
   "id": "3c8f9125",
   "metadata": {},
   "outputs": [],
   "source": [
    "def get_common_words(text, num=50):\n",
    "    ttt = \"\"\n",
    "    for i in text:\n",
    "        ttt = ttt + i  \n",
    "\n",
    "    ttt = re.sub(r'(\\'|\\n|\\\")', r' ', ttt) \n",
    "\n",
    "    blob = TextBlob(ttt)\n",
    "    singulars = [word.singularize() for word in blob.words]\n",
    "\n",
    "\n",
    "    return Counter(singulars).most_common()[:num]\n",
    "    \n",
    "    "
   ]
  },
  {
   "cell_type": "code",
   "execution_count": 204,
   "id": "0d827706",
   "metadata": {},
   "outputs": [
    {
     "data": {
      "text/plain": [
       "[('the', 597),\n",
       " ('to', 486),\n",
       " ('and', 389),\n",
       " ('we', 320),\n",
       " ('of', 242),\n",
       " ('a', 233),\n",
       " ('’', 191),\n",
       " ('you', 176),\n",
       " ('get', 176),\n",
       " ('my', 172),\n",
       " ('in', 159),\n",
       " ('thi', 154),\n",
       " ('for', 151),\n",
       " ('s', 151),\n",
       " ('brexit', 131),\n",
       " ('on', 129),\n",
       " ('done', 112),\n",
       " ('can', 110),\n",
       " ('will', 109),\n",
       " ('all', 95),\n",
       " ('with', 91),\n",
       " ('i', 90),\n",
       " ('at', 85),\n",
       " ('are', 84),\n",
       " ('that', 83),\n",
       " ('is', 78),\n",
       " ('have', 75),\n",
       " ('ymy', 73),\n",
       " ('nh', 73),\n",
       " ('let', 69),\n",
       " ('country', 63),\n",
       " ('it', 59),\n",
       " ('if', 57),\n",
       " ('conservative', 57),\n",
       " ('thank', 55),\n",
       " ('be', 48),\n",
       " ('more', 48),\n",
       " ('today', 48),\n",
       " ('day', 47),\n",
       " ('by', 46),\n",
       " ('person', 46),\n",
       " ('so', 46),\n",
       " ('home', 45),\n",
       " ('from', 44),\n",
       " ('live', 43),\n",
       " ('uk', 41),\n",
       " ('stay', 40),\n",
       " ('government', 40),\n",
       " ('vote', 40),\n",
       " ('pm', 39)]"
      ]
     },
     "execution_count": 204,
     "metadata": {},
     "output_type": "execute_result"
    }
   ],
   "source": [
    "get_common_words(get_texts(boris))"
   ]
  },
  {
   "cell_type": "code",
   "execution_count": 206,
   "id": "b74ad147",
   "metadata": {},
   "outputs": [
    {
     "data": {
      "text/plain": [
       "[('the', 1091),\n",
       " ('to', 854),\n",
       " ('–', 658),\n",
       " ('a', 546),\n",
       " ('lhl', 506),\n",
       " ('of', 504),\n",
       " ('in', 333),\n",
       " ('my', 317),\n",
       " ('for', 291),\n",
       " ('we', 254),\n",
       " ('at', 240),\n",
       " ('’', 216),\n",
       " ('with', 210),\n",
       " ('on', 198),\n",
       " ('thi', 189),\n",
       " ('and', 189),\n",
       " ('will', 184),\n",
       " ('is', 177),\n",
       " ('singapore', 161),\n",
       " ('s', 146),\n",
       " ('pm', 141),\n",
       " ('all', 136),\n",
       " ('it', 126),\n",
       " ('you', 124),\n",
       " ('have', 119),\n",
       " ('are', 112),\n",
       " ('day', 111),\n",
       " ('lee', 109),\n",
       " ('that', 103),\n",
       " ('be', 98),\n",
       " ('i', 96),\n",
       " ('their', 96),\n",
       " ('from', 94),\n",
       " ('tdy', 87),\n",
       " ('an', 85),\n",
       " ('by', 84),\n",
       " ('year', 80),\n",
       " ('many', 79),\n",
       " ('covid-19', 74),\n",
       " ('more', 74),\n",
       " ('happy', 72),\n",
       " ('ytdy', 71),\n",
       " ('new', 69),\n",
       " ('ymy', 69),\n",
       " ('good', 62),\n",
       " ('work', 62),\n",
       " ('u', 61),\n",
       " ('can', 60),\n",
       " ('thank', 60),\n",
       " ('last', 58)]"
      ]
     },
     "execution_count": 206,
     "metadata": {},
     "output_type": "execute_result"
    }
   ],
   "source": [
    "get_common_words(get_texts(lee))"
   ]
  },
  {
   "cell_type": "code",
   "execution_count": 207,
   "id": "c18361c5",
   "metadata": {},
   "outputs": [
    {
     "data": {
      "text/plain": [
       "[('the', 692),\n",
       " ('to', 554),\n",
       " ('and', 439),\n",
       " ('of', 350),\n",
       " ('a', 292),\n",
       " ('in', 253),\n",
       " ('for', 173),\n",
       " ('covid-19', 171),\n",
       " ('my', 163),\n",
       " ('is', 152),\n",
       " ('on', 151),\n",
       " ('will', 147),\n",
       " ('thi', 141),\n",
       " ('with', 139),\n",
       " ('s', 128),\n",
       " ('’', 127),\n",
       " ('indium', 127),\n",
       " ('you', 101),\n",
       " ('we', 101),\n",
       " ('i', 101),\n",
       " ('by', 90),\n",
       " ('are', 90),\n",
       " ('hi', 78),\n",
       " ('all', 76),\n",
       " ('it', 73),\n",
       " ('person', 72),\n",
       " ('fight', 69),\n",
       " ('have', 67),\n",
       " ('against', 65),\n",
       " ('their', 63),\n",
       " ('be', 60),\n",
       " ('thank', 55),\n",
       " ('also', 51),\n",
       " ('from', 49),\n",
       " ('effort', 47),\n",
       " ('good', 46),\n",
       " ('that', 43),\n",
       " ('ji', 43),\n",
       " ('nation', 42),\n",
       " ('life', 41),\n",
       " ('together', 41),\n",
       " ('an', 39),\n",
       " ('can', 39),\n",
       " ('ha', 38),\n",
       " ('contribution', 37),\n",
       " ('ymy', 36),\n",
       " ('he', 36),\n",
       " ('at', 36),\n",
       " ('time', 36),\n",
       " ('way', 36)]"
      ]
     },
     "execution_count": 207,
     "metadata": {},
     "output_type": "execute_result"
    }
   ],
   "source": [
    "get_common_words(get_texts(modi))"
   ]
  },
  {
   "cell_type": "code",
   "execution_count": 208,
   "id": "1e73c1b0",
   "metadata": {},
   "outputs": [
    {
     "data": {
      "text/plain": [
       "[('the', 570),\n",
       " ('and', 457),\n",
       " ('to', 421),\n",
       " ('’', 277),\n",
       " ('we', 265),\n",
       " ('of', 219),\n",
       " ('a', 216),\n",
       " ('for', 204),\n",
       " ('my', 182),\n",
       " ('you', 154),\n",
       " ('in', 151),\n",
       " ('on', 149),\n",
       " ('re', 115),\n",
       " ('are', 110),\n",
       " ('i', 105),\n",
       " ('more', 105),\n",
       " ('with', 97),\n",
       " ('thi', 92),\n",
       " ('today', 90),\n",
       " ('s', 90),\n",
       " ('that', 89),\n",
       " ('need', 68),\n",
       " ('canada', 68),\n",
       " ('support', 67),\n",
       " ('help', 66),\n",
       " ('is', 65),\n",
       " ('covid-19', 65),\n",
       " ('they', 63),\n",
       " ('can', 60),\n",
       " ('canadian', 58),\n",
       " ('about', 55),\n",
       " ('country', 52),\n",
       " ('it', 51),\n",
       " ('have', 50),\n",
       " ('will', 49),\n",
       " ('get', 47),\n",
       " ('all', 46),\n",
       " ('work', 43),\n",
       " ('an', 41),\n",
       " ('ymy', 40),\n",
       " ('person', 39),\n",
       " ('who', 39),\n",
       " ('keep', 37),\n",
       " ('so', 37),\n",
       " ('be', 37),\n",
       " ('their', 36),\n",
       " ('now', 36),\n",
       " ('what', 35),\n",
       " ('together', 34),\n",
       " ('emergency', 34)]"
      ]
     },
     "execution_count": 208,
     "metadata": {},
     "output_type": "execute_result"
    }
   ],
   "source": [
    "get_common_words(get_texts(trudeau))"
   ]
  },
  {
   "cell_type": "code",
   "execution_count": 209,
   "id": "1143a834",
   "metadata": {},
   "outputs": [
    {
     "data": {
      "text/plain": [
       "[('the', 688),\n",
       " ('to', 482),\n",
       " ('and', 366),\n",
       " ('a', 329),\n",
       " ('of', 293),\n",
       " ('in', 260),\n",
       " ('is', 241),\n",
       " ('’', 227),\n",
       " ('for', 222),\n",
       " ('my', 190),\n",
       " ('i', 136),\n",
       " ('s', 133),\n",
       " ('on', 127),\n",
       " ('that', 120),\n",
       " ('thi', 112),\n",
       " ('you', 110),\n",
       " ('great', 109),\n",
       " ('are', 107),\n",
       " ('it', 102),\n",
       " ('they', 96),\n",
       " ('will', 94),\n",
       " ('be', 91),\n",
       " ('have', 88),\n",
       " ('he', 88),\n",
       " ('t', 86),\n",
       " ('we', 84),\n",
       " ('“', 80),\n",
       " ('with', 72),\n",
       " ('not', 71),\n",
       " ('wa', 70),\n",
       " ('from', 69),\n",
       " ('ha', 68),\n",
       " ('person', 58),\n",
       " ('by', 57),\n",
       " ('hi', 51),\n",
       " ('at', 50),\n",
       " ('job', 49),\n",
       " ('now', 49),\n",
       " ('president', 48),\n",
       " ('who', 48),\n",
       " ('american', 47),\n",
       " ('polouse', 46),\n",
       " ('but', 42),\n",
       " ('been', 42),\n",
       " ('trump', 41),\n",
       " ('no', 41),\n",
       " ('an', 41),\n",
       " ('more', 40),\n",
       " ('out', 39),\n",
       " ('all', 39)]"
      ]
     },
     "execution_count": 209,
     "metadata": {},
     "output_type": "execute_result"
    }
   ],
   "source": [
    "get_common_words(get_texts(trump))"
   ]
  }
 ],
 "metadata": {
  "kernelspec": {
   "display_name": "Python 3 (ipykernel)",
   "language": "python",
   "name": "python3"
  },
  "language_info": {
   "codemirror_mode": {
    "name": "ipython",
    "version": 3
   },
   "file_extension": ".py",
   "mimetype": "text/x-python",
   "name": "python",
   "nbconvert_exporter": "python",
   "pygments_lexer": "ipython3",
   "version": "3.8.5"
  }
 },
 "nbformat": 4,
 "nbformat_minor": 5
}
